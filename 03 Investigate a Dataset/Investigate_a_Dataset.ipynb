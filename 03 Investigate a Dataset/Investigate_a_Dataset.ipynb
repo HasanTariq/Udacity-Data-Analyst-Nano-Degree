{
 "cells": [
  {
   "cell_type": "markdown",
   "metadata": {},
   "source": [
    "# Project: Investigate a Soccer Database\n",
    "\n",
    "## Table of Contents\n",
    "<ul>\n",
    "<li><a href=\"#intro\">Introduction</a></li>\n",
    "<li><a href=\"#wrangling\">Data Wrangling</a></li>\n",
    "<li><a href=\"#eda\">Exploratory Data Analysis</a></li>\n",
    "<li><a href=\"#conclusions\">Conclusions</a></li>\n",
    "</ul>"
   ]
  },
  {
   "cell_type": "markdown",
   "metadata": {},
   "source": [
    "<a id='intro'></a>\n",
    "## Introduction\n"
   ]
  },
  {
   "cell_type": "markdown",
   "metadata": {},
   "source": [
    "I have selected the ultimate European soccer database from kaggle. The database consisit of the following :\n",
    "\n",
    "<ol>\n",
    "<ul> +25,000 matches </ul>\n",
    "<ul> +10,000 players </ul>\n",
    "<ul> 11 European Countries with their lead championship </ul>\n",
    "<ul> Seasons 2008 to 2016 </ul>\n",
    "<ul> Players and Teams' attributes* sourced from EA Sports' FIFA video game series, including the weekly updates </ul>\n",
    "<ul> Team line up with squad formation (X, Y coordinates) </ul>\n",
    "<ul> Betting odds from up to 10 providers </ul>\n",
    "<ul>Detailed match events (goal types, possession, corner, cross, fouls, cards etc...) for +10,000 matches </ul>\n",
    "</ol>"
   ]
  },
  {
   "cell_type": "markdown",
   "metadata": {},
   "source": [
    "### Questions for Analysis \n",
    "<ol>\n",
    "   <li>Which team has scored the most goal at home ? What is the average player attribute of this team? </li>\n",
    "   <li>Explore player attributes and find the correlation between the following variables:  </li>\n",
    "   <ol>\n",
    "      <li>Player aggression and interceptions</li>\n",
    "      <li>Player vision and long passing</li>\n",
    "      <li>Player jumping and heading accuracy</li>\n",
    "   </ol>\n",
    "   <li>Which players had the most penalties? What is the player attribute associated with it ?</li>\n",
    "</ol>"
   ]
  },
  {
   "cell_type": "markdown",
   "metadata": {},
   "source": [
    "### Importing All the Packages \n",
    "In this section, we will import all the needed packages for our analysis"
   ]
  },
  {
   "cell_type": "code",
   "execution_count": 1,
   "metadata": {},
   "outputs": [],
   "source": [
    "# Use this cell to set up import statements for all of the packages that you\n",
    "#   plan to use.\n",
    "\n",
    "# Remember to include a 'magic word' so that your visualizations are plotted\n",
    "#   inline with the notebook. See this page for more:\n",
    "#   http://ipython.readthedocs.io/en/stable/interactive/magics.html\n",
    "\n",
    "import pandas as pd\n",
    "import numpy as np\n",
    "import matplotlib.pyplot as plt\n",
    "import plotly.plotly as py\n",
    "import plotly.tools as tls\n",
    "import seaborn as sns\n",
    "import pdb\n",
    "from scipy.stats import ttest_ind\n",
    "from pandas.tools.plotting import table \n",
    "import xml.etree.ElementTree as et\n",
    "from collections import OrderedDict\n",
    "import io\n",
    "\n",
    "\n",
    "%matplotlib inline"
   ]
  },
  {
   "cell_type": "markdown",
   "metadata": {},
   "source": [
    "<a id='wrangling'></a>\n",
    "## Data Wrangling\n",
    "\n",
    "### General Properties"
   ]
  },
  {
   "cell_type": "markdown",
   "metadata": {},
   "source": [
    "> **Note**: I was planning to use SQLITE library within the udacity jupyter notebook but since\n",
    "    I don not have the ability to add the library, I decided to run the query using 'DB Browser for SQLITE' and then export the results of the query as CSV file."
   ]
  },
  {
   "cell_type": "markdown",
   "metadata": {},
   "source": [
    "#### The query I used to extract the data to answer the first question \n",
    "\n",
    "``` mysql\n",
    "SELECT c.name as country, \n",
    "l.name as league, \n",
    "m.season, \n",
    "m.stage, \n",
    "m.date, \n",
    "t1.team_long_name as home_team, \n",
    "t2.team_long_name as away_team , \n",
    "m.home_team_goal, \n",
    "m.away_team_goal, \n",
    "CASE\n",
    "    WHEN m.home_team_goal > m.away_team_goal THEN t1.team_long_name\n",
    "    WHEN m.away_team_goal > home_team_goal THEN t2.team_long_name\n",
    "    ELSE null\n",
    "END as winner\n",
    "FROM match m\n",
    "INNER JOIN Country c ON m.country_id = c.id\n",
    "INNER JOIN League l ON m.league_id = l.id\n",
    "INNER JOIN Team t1 ON m.home_team_api_id = t1.team_api_id \n",
    "INNER JOIN Team t2 ON m.away_team_api_id = t2.team_api_id \n",
    "```"
   ]
  },
  {
   "cell_type": "markdown",
   "metadata": {},
   "source": [
    "#### The query I used to extract the data to answer the second question \n",
    "\n",
    "``` mysql\n",
    "SELECT pl.player_fifa_api_id, \n",
    "pl.player_name, \n",
    "pl.height, \n",
    "pl.weight, \n",
    "p.aggression,\n",
    "p.interceptions,\n",
    "p.vision,\n",
    "p.long_passing,\n",
    "p.jumping, \n",
    "p.heading_accuracy,\n",
    "p.overall_rating, \n",
    "p.preferred_foot, \n",
    "p.ball_control, \n",
    "p.balance, \n",
    "p.strength, \n",
    "p.stamina, \n",
    "MAX(p.date) \n",
    "FROM Player AS pl \n",
    "INNER JOIN Player_Attributes  AS p ON pl.player_fifa_api_id = p.player_fifa_api_id \n",
    "GROUP BY p.player_fifa_api_id\n",
    "```"
   ]
  },
  {
   "cell_type": "markdown",
   "metadata": {},
   "source": [
    "#### Loading dataset required to answer the first question:"
   ]
  },
  {
   "cell_type": "code",
   "execution_count": 2,
   "metadata": {},
   "outputs": [
    {
     "name": "stdout",
     "output_type": "stream",
     "text": [
      "<class 'pandas.core.frame.DataFrame'>\n",
      "RangeIndex: 25979 entries, 0 to 25978\n",
      "Data columns (total 10 columns):\n",
      "country           25979 non-null object\n",
      "league            25979 non-null object\n",
      "season            25979 non-null object\n",
      "stage             25979 non-null int64\n",
      "date              25979 non-null object\n",
      "home_team         25979 non-null object\n",
      "away_team         25979 non-null object\n",
      "home_team_goal    25979 non-null int64\n",
      "away_team_goal    25979 non-null int64\n",
      "winner            19383 non-null object\n",
      "dtypes: int64(3), object(7)\n",
      "memory usage: 2.0+ MB\n"
     ]
    }
   ],
   "source": [
    "# Load soccer database into q1_df\n",
    "q1_df = pd.read_csv('q1_soccer_db.csv')\n",
    "q1_df.info()"
   ]
  },
  {
   "cell_type": "markdown",
   "metadata": {},
   "source": [
    "#### Loading dataset required to answer the second question:"
   ]
  },
  {
   "cell_type": "code",
   "execution_count": 3,
   "metadata": {},
   "outputs": [
    {
     "name": "stdout",
     "output_type": "stream",
     "text": [
      "<class 'pandas.core.frame.DataFrame'>\n",
      "RangeIndex: 11060 entries, 0 to 11059\n",
      "Data columns (total 17 columns):\n",
      "player_fifa_api_id    11060 non-null int64\n",
      "player_name           11060 non-null object\n",
      "height                11060 non-null float64\n",
      "weight                11060 non-null int64\n",
      "aggression            11060 non-null int64\n",
      "interceptions         11060 non-null int64\n",
      "vision                10582 non-null float64\n",
      "long_passing          11060 non-null int64\n",
      "jumping               10582 non-null float64\n",
      "heading_accuracy      11060 non-null int64\n",
      "overall_rating        11060 non-null int64\n",
      "preferred_foot        11060 non-null object\n",
      "ball_control          11060 non-null int64\n",
      "balance               10582 non-null float64\n",
      "strength              11060 non-null int64\n",
      "stamina               11060 non-null int64\n",
      "MAX(p.date)           11060 non-null object\n",
      "dtypes: float64(4), int64(10), object(3)\n",
      "memory usage: 1.4+ MB\n"
     ]
    }
   ],
   "source": [
    "# Load soccer database into q1_df\n",
    "q2_df = pd.read_csv('q2_players_attr.csv')\n",
    "q2_df.info()"
   ]
  },
  {
   "cell_type": "markdown",
   "metadata": {},
   "source": [
    "### Data Cleaning Process:"
   ]
  },
  {
   "cell_type": "markdown",
   "metadata": {},
   "source": [
    "###### Question 1 Cleanliness Process :\n",
    "Since we have executed the above query, we selected only the needed columns for our analysis which is the following :\n",
    "\n",
    "<table style=\"width:70%\" align=\"left\">\n",
    "  <tr>\n",
    "    <th>Column</th>\n",
    "    <th>Description</th> \n",
    "  </tr>\n",
    "  <tr>\n",
    "    <td>country</td>\n",
    "    <td>The league coutry origin</td> \n",
    "  </tr>\n",
    "  <tr>\n",
    "    <td>league</td>\n",
    "    <td>The name of the league</td> \n",
    "  </tr>\n",
    "  <tr>\n",
    "    <td>season</td>\n",
    "    <td>The season number</td> \n",
    "  </tr>\n",
    "  <tr>\n",
    "    <td>stage</td>\n",
    "    <td>The league stage or round number</td> \n",
    "  </tr>\n",
    "  <tr>\n",
    "    <td>date</td>\n",
    "    <td>The date of the match</td> \n",
    "  </tr>\n",
    "  <tr>\n",
    "    <td>home_team</td>\n",
    "    <td>The long name of the home team</td> \n",
    "  </tr>\n",
    "  <tr>\n",
    "    <td>away_team</td>\n",
    "    <td>The long name of the away team</td> \n",
    "  </tr>\n",
    "  <tr>\n",
    "    <td>home_team_goal</td>\n",
    "    <td>Goal for home team</td> \n",
    "  </tr>\n",
    "  <tr>\n",
    "    <td>away_team_goal</td>\n",
    "    <td>Goal for away team</td> \n",
    "  </tr>\n",
    "  <tr>\n",
    "    <td>winner</td>\n",
    "    <td>Which team wins the match (this is new colmun created when I excuted the  query)</td> \n",
    "  </tr>\n",
    "</table>"
   ]
  },
  {
   "cell_type": "markdown",
   "metadata": {},
   "source": [
    "**To answer the first question, we don't need the 'Winner' column، So, I'm going to drop this columns from the data frame and then I i'll drop any null rows just to make sure that we have clean data frame:**"
   ]
  },
  {
   "cell_type": "code",
   "execution_count": 4,
   "metadata": {},
   "outputs": [
    {
     "name": "stdout",
     "output_type": "stream",
     "text": [
      "<class 'pandas.core.frame.DataFrame'>\n",
      "Int64Index: 25979 entries, 0 to 25978\n",
      "Data columns (total 6 columns):\n",
      "country           25979 non-null object\n",
      "league            25979 non-null object\n",
      "season            25979 non-null object\n",
      "date              25979 non-null object\n",
      "home_team         25979 non-null object\n",
      "home_team_goal    25979 non-null int64\n",
      "dtypes: int64(1), object(5)\n",
      "memory usage: 1.4+ MB\n"
     ]
    }
   ],
   "source": [
    "# Drop the 'Winner' column from the data frame and drop any na rows\n",
    "q1_df.drop('winner', axis=1, inplace=True)\n",
    "q1_df.drop('stage', axis=1, inplace=True)\n",
    "q1_df.drop('away_team_goal', axis=1, inplace=True)\n",
    "q1_df.drop('away_team', axis=1, inplace=True)\n",
    "\n",
    "q1_df.dropna( inplace=True)\n",
    "\n",
    "# Make sure that you get rid off the unneeded columns and null rows\n",
    "q1_df.info()\n"
   ]
  },
  {
   "cell_type": "markdown",
   "metadata": {},
   "source": [
    "**As we can see, we need to convert stage to int and date to date and time format**"
   ]
  },
  {
   "cell_type": "code",
   "execution_count": 5,
   "metadata": {},
   "outputs": [
    {
     "name": "stdout",
     "output_type": "stream",
     "text": [
      "<class 'pandas.core.frame.DataFrame'>\n",
      "Int64Index: 25979 entries, 0 to 25978\n",
      "Data columns (total 6 columns):\n",
      "country           25979 non-null object\n",
      "league            25979 non-null object\n",
      "season            25979 non-null object\n",
      "date              25979 non-null datetime64[ns]\n",
      "home_team         25979 non-null object\n",
      "home_team_goal    25979 non-null int64\n",
      "dtypes: datetime64[ns](1), int64(1), object(4)\n",
      "memory usage: 1.4+ MB\n"
     ]
    }
   ],
   "source": [
    "# Convert stage and date to the correct format\n",
    "q1_df['date']= pd.to_datetime(q1_df['date'])\n",
    "\n",
    "# Make sure that you convert both columns \n",
    "q1_df.info()\n"
   ]
  },
  {
   "cell_type": "markdown",
   "metadata": {},
   "source": [
    "###### Question 2 Cleanliness Process :\n",
    "Since we have executed the above query, we selected only the needed columns for our analysis which is the following :\n",
    "\n",
    "<table style=\"width:70%\" align=\"left\">\n",
    "   <tr>\n",
    "      <th>Column</th>\n",
    "      <th>Description</th>\n",
    "   </tr>\n",
    "   <tr>\n",
    "      <td>player_fifa_api_id</td>\n",
    "      <td>unique ID from Fifa</td>\n",
    "   </tr>\n",
    "   <td>player_name</td>\n",
    "   <td>player_name</td>\n",
    "   </tr>\n",
    "   <tr>\n",
    "      <td>height</td>\n",
    "      <td>height</td>\n",
    "   </tr>\n",
    "   <tr>\n",
    "      <td>weight</td>\n",
    "      <td>weight</td>\n",
    "   </tr>\n",
    "   <tr>\n",
    "      <td>aggression</td>\n",
    "      <td>aggression</td>\n",
    "   </tr>\n",
    "   <tr>\n",
    "      <td>interceptions</td>\n",
    "      <td>interceptions</td>\n",
    "   </tr>\n",
    "   <tr>\n",
    "      <td>vision</td>\n",
    "      <td>vision</td>\n",
    "   </tr>\n",
    "   <tr>\n",
    "      <td>long_passing</td>\n",
    "      <td>long_passing</td>\n",
    "   </tr>\n",
    "   <tr>\n",
    "      <td>jumping</td>\n",
    "      <td>jumping</td>\n",
    "   </tr>\n",
    "   <tr>\n",
    "      <td>heading_accuracy</td>\n",
    "      <td>heading_accuracy</td>\n",
    "   </tr>\n",
    "   <tr>\n",
    "      <td>overall_rating</td>\n",
    "      <td>overall_rating</td>\n",
    "   </tr>\n",
    "   <tr>\n",
    "      <td>preferred_foot</td>\n",
    "      <td>preferred_foot</td>\n",
    "   </tr>\n",
    "   <tr>\n",
    "      <td>ball_control</td>\n",
    "      <td>ball_control</td>\n",
    "   </tr>\n",
    "   <tr>\n",
    "      <td>balance</td>\n",
    "      <td>balance</td>\n",
    "   </tr>\n",
    "   <tr>\n",
    "      <td>strength</td>\n",
    "      <td>strength</td>\n",
    "   </tr>\n",
    "   <tr>\n",
    "      <td>stamina</td>\n",
    "      <td>stamina</td>\n",
    "   </tr>\n",
    "   <tr>\n",
    "      <td>date</td>\n",
    "      <td>the latest update date</td>\n",
    "   </tr>\n",
    "</table>"
   ]
  },
  {
   "cell_type": "markdown",
   "metadata": {},
   "source": [
    "**To answer the second  question, I'm going to perform the following :**\n",
    "<ul>Drop rows contatin null value (like 'vision', 'balance' columns)</ul> \n",
    "<ul>Check if there are duplicates and remove them</ul>"
   ]
  },
  {
   "cell_type": "markdown",
   "metadata": {},
   "source": [
    "***Step 1: Drop any rows containing null value :***"
   ]
  },
  {
   "cell_type": "code",
   "execution_count": 6,
   "metadata": {},
   "outputs": [
    {
     "name": "stdout",
     "output_type": "stream",
     "text": [
      "<class 'pandas.core.frame.DataFrame'>\n",
      "Int64Index: 10582 entries, 0 to 11059\n",
      "Data columns (total 17 columns):\n",
      "player_fifa_api_id    10582 non-null int64\n",
      "player_name           10582 non-null object\n",
      "height                10582 non-null float64\n",
      "weight                10582 non-null int64\n",
      "aggression            10582 non-null int64\n",
      "interceptions         10582 non-null int64\n",
      "vision                10582 non-null float64\n",
      "long_passing          10582 non-null int64\n",
      "jumping               10582 non-null float64\n",
      "heading_accuracy      10582 non-null int64\n",
      "overall_rating        10582 non-null int64\n",
      "preferred_foot        10582 non-null object\n",
      "ball_control          10582 non-null int64\n",
      "balance               10582 non-null float64\n",
      "strength              10582 non-null int64\n",
      "stamina               10582 non-null int64\n",
      "MAX(p.date)           10582 non-null object\n",
      "dtypes: float64(4), int64(10), object(3)\n",
      "memory usage: 1.5+ MB\n"
     ]
    }
   ],
   "source": [
    "# Drop NA rows\n",
    "q2_df.dropna( inplace=True)\n",
    "\n",
    "# Make sure that you get rid off the unneeded columns and null rows\n",
    "q2_df.info()"
   ]
  },
  {
   "cell_type": "markdown",
   "metadata": {},
   "source": [
    "***Step 2: Check if there duplicated rows and remove them :***"
   ]
  },
  {
   "cell_type": "code",
   "execution_count": 7,
   "metadata": {},
   "outputs": [
    {
     "data": {
      "text/plain": [
       "0"
      ]
     },
     "execution_count": 7,
     "metadata": {},
     "output_type": "execute_result"
    }
   ],
   "source": [
    "#check if there are any duplicated rows\n",
    "len(q2_df[q2_df.duplicated()]) # there are none\n",
    "\n",
    "#Therefore, we are not going to take further action"
   ]
  },
  {
   "cell_type": "markdown",
   "metadata": {},
   "source": [
    "<a id='eda'></a>\n",
    "## Exploratory Data Analysis\n",
    "\n",
    "> **Tip**: Now that you've trimmed and cleaned your data, you're ready to move on to exploration. Compute statistics and create visualizations with the goal of addressing the research questions that you posed in the Introduction section. It is recommended that you be systematic with your approach. Look at one variable at a time, and then follow it up by looking at relationships between variables.\n",
    "\n",
    "### Research Question 1: Which team has scored the most goal at home? What is the average player attribute of this team? "
   ]
  },
  {
   "cell_type": "code",
   "execution_count": 8,
   "metadata": {},
   "outputs": [
    {
     "data": {
      "text/html": [
       "<div>\n",
       "<style>\n",
       "    .dataframe thead tr:only-child th {\n",
       "        text-align: right;\n",
       "    }\n",
       "\n",
       "    .dataframe thead th {\n",
       "        text-align: left;\n",
       "    }\n",
       "\n",
       "    .dataframe tbody tr th {\n",
       "        vertical-align: top;\n",
       "    }\n",
       "</style>\n",
       "<table border=\"1\" class=\"dataframe\">\n",
       "  <thead>\n",
       "    <tr style=\"text-align: right;\">\n",
       "      <th></th>\n",
       "      <th>home_team</th>\n",
       "      <th>home_team_goal</th>\n",
       "    </tr>\n",
       "  </thead>\n",
       "  <tbody>\n",
       "    <tr>\n",
       "      <th>211</th>\n",
       "      <td>Real Madrid CF</td>\n",
       "      <td>505</td>\n",
       "    </tr>\n",
       "    <tr>\n",
       "      <th>75</th>\n",
       "      <td>FC Barcelona</td>\n",
       "      <td>495</td>\n",
       "    </tr>\n",
       "    <tr>\n",
       "      <th>49</th>\n",
       "      <td>Celtic</td>\n",
       "      <td>389</td>\n",
       "    </tr>\n",
       "    <tr>\n",
       "      <th>77</th>\n",
       "      <td>FC Bayern Munich</td>\n",
       "      <td>382</td>\n",
       "    </tr>\n",
       "    <tr>\n",
       "      <th>184</th>\n",
       "      <td>PSV</td>\n",
       "      <td>370</td>\n",
       "    </tr>\n",
       "  </tbody>\n",
       "</table>\n",
       "</div>"
      ],
      "text/plain": [
       "            home_team  home_team_goal\n",
       "211    Real Madrid CF             505\n",
       "75       FC Barcelona             495\n",
       "49             Celtic             389\n",
       "77   FC Bayern Munich             382\n",
       "184               PSV             370"
      ]
     },
     "execution_count": 8,
     "metadata": {},
     "output_type": "execute_result"
    }
   ],
   "source": [
    "# Use this, and more code cells, to explore your data. Don't forget to add\n",
    "#   Markdown cells to document your observations and findings.\n",
    "\n",
    "# Group results by home team and sum all the goals that each team scored\n",
    "# then reset the index\n",
    "home_team_result= q1_df.groupby(['home_team']).sum().reset_index()\n",
    "\n",
    "# After reseting the indexes, we can reindex it using the ascending properties  \n",
    "home_team_result.sort_values('home_team_goal', ascending=False, inplace=True)\n",
    "\n",
    "# Get the top 5 team who scored the most \n",
    "home_team_result= home_team_result.head(5)\n",
    "\n",
    "home_team_result"
   ]
  },
  {
   "cell_type": "markdown",
   "metadata": {},
   "source": [
    "***The team who scored the most in home is : Real Madrid CF***\n",
    "<br>\n",
    "***Real Madrid*** has scored ***505 goals*** from season ***2008 - 2016***"
   ]
  },
  {
   "cell_type": "code",
   "execution_count": 22,
   "metadata": {},
   "outputs": [
    {
     "name": "stderr",
     "output_type": "stream",
     "text": [
      "/opt/conda/lib/python3.6/site-packages/ipykernel_launcher.py:18: FutureWarning:\n",
      "\n",
      "'pandas.tools.plotting.table' is deprecated, import 'pandas.plotting.table' instead.\n",
      "\n"
     ]
    },
    {
     "data": {
      "image/png": "[encoded data removed]",
      "text/plain": [
       "<matplotlib.figure.Figure at 0x7f736a830128>"
      ]
     },
     "metadata": {},
     "output_type": "display_data"
    }
   ],
   "source": [
    "plt.figure(figsize=(16,8))\n",
    "# plot chart\n",
    "ax1 = plt.subplot(121, aspect='equal')\n",
    "home_team_result.plot(kind='pie', \n",
    "                      y = 'home_team_goal', \n",
    "                      ax=ax1, \n",
    "                      autopct='%1.1f%%', \n",
    "                      startangle=90, \n",
    "                      shadow=False, \n",
    "                      labels=home_team_result['home_team'], \n",
    "                      legend = False, \n",
    "                      fontsize=14,\n",
    "                      title= 'The top 5 teams who scored the most from 2008 - 2016')\n",
    "\n",
    "# plot table\n",
    "ax2 = plt.subplot(122)\n",
    "plt.axis('off')\n",
    "tbl = table(ax2, home_team_result, loc='center')\n",
    "tbl.auto_set_font_size(False)\n",
    "tbl.set_fontsize(12)\n",
    "plt.show()"
   ]
  },
  {
   "cell_type": "markdown",
   "metadata": {},
   "source": [
    "### Research Question 2: Explore player attributes and find the correlation between the following variables:   Player aggression and interceptions, Player vision and long passing , Player jumping and heading accuracy"
   ]
  },
  {
   "cell_type": "code",
   "execution_count": 10,
   "metadata": {},
   "outputs": [
    {
     "name": "stdout",
     "output_type": "stream",
     "text": [
      "   player_fifa_api_id        player_name  height  weight  aggression  \\\n",
      "0                   2  Giovanni Pasquale  182.88     181          72   \n",
      "1                   6     Alessio Scarpi  187.96     183          40   \n",
      "2                  11      Romain Rocchi  182.88     165          57   \n",
      "3                  16        Luis Garcia  177.80     152          67   \n",
      "4                  27           Joe Cole  175.26     161          69   \n",
      "\n",
      "   interceptions  vision  long_passing  jumping  heading_accuracy  \\\n",
      "0             69    66.0            69     68.0                59   \n",
      "1             20    42.0            24     72.0                15   \n",
      "2             58    66.0            64     64.0                54   \n",
      "3             32    62.0            57     68.0                61   \n",
      "4             39    74.0            69     58.0                41   \n",
      "\n",
      "   overall_rating preferred_foot  ball_control  balance  strength  stamina  \\\n",
      "0              69           left            71     68.0        68       69   \n",
      "1              70          right            11     43.0        69       50   \n",
      "2              63          right            68     58.0        67       53   \n",
      "3              70          right            78     72.0        71       70   \n",
      "4              71          right            78     75.0        56       29   \n",
      "\n",
      "           MAX(p.date)  \n",
      "0  2016-05-12 00:00:00  \n",
      "1  2011-08-30 00:00:00  \n",
      "2  2015-03-27 00:00:00  \n",
      "3  2014-04-11 00:00:00  \n",
      "4  2016-04-14 00:00:00  \n"
     ]
    }
   ],
   "source": [
    "# General overview of the data \n",
    "print(q2_df.head())"
   ]
  },
  {
   "cell_type": "markdown",
   "metadata": {},
   "source": [
    "#### Finding the correlation between aggression and interception"
   ]
  },
  {
   "cell_type": "code",
   "execution_count": 16,
   "metadata": {},
   "outputs": [
    {
     "data": {
      "image/png": "[encoded data removed]",
      "text/plain": [
       "<matplotlib.figure.Figure at 0x7f736aa325f8>"
      ]
     },
     "metadata": {},
     "output_type": "display_data"
    }
   ],
   "source": [
    "## FInding Relation of aggression/interceptions with Player Attributes\n",
    "# aggression Vs interceptions\n",
    "plt.scatter(q2_df['aggression'],q2_df['interceptions'])\n",
    "plt.xlabel('aggression', fontsize=12)\n",
    "plt.ylabel('interceptions', fontsize=12)\n",
    "plt.title('The correlation between aggression and interceptions',fontsize=12)\n",
    "plt.show()\n",
    "\n"
   ]
  },
  {
   "cell_type": "markdown",
   "metadata": {},
   "source": [
    "#### Finding the correlation between player vision and long passing:"
   ]
  },
  {
   "cell_type": "code",
   "execution_count": 12,
   "metadata": {},
   "outputs": [
    {
     "data": {
      "image/png": "[encoded data removed]",
      "text/plain": [
       "<matplotlib.figure.Figure at 0x7f736cc0c128>"
      ]
     },
     "metadata": {},
     "output_type": "display_data"
    }
   ],
   "source": [
    "## FInding Relation of vision/long passing with Player Attributes\n",
    "# vision Vs long passing\n",
    "plt.scatter(q2_df['vision'],q2_df['long_passing'])\n",
    "plt.xlabel('vision', fontsize=12)\n",
    "plt.ylabel('long_passing', fontsize=12)\n",
    "plt.title('The correlation between vision and long passing',fontsize=12)\n",
    "plt.show()\n"
   ]
  },
  {
   "cell_type": "markdown",
   "metadata": {},
   "source": [
    "#### Finding the correlation between jumping and heading accuracy"
   ]
  },
  {
   "cell_type": "code",
   "execution_count": 46,
   "metadata": {},
   "outputs": [
    {
     "data": {
      "image/png": "[encoded data removed]",
      "text/plain": [
       "<matplotlib.figure.Figure at 0x7f736a66c278>"
      ]
     },
     "metadata": {},
     "output_type": "display_data"
    }
   ],
   "source": [
    "## FInding Relation of vision/long passing with Player Attributes\n",
    "# vision Vs long passing\n",
    "df = pd.DataFrame(index=range(1,10) , columns=['empty_column'])\n",
    "df.fillna(0, inplace= True)\n",
    "\n",
    "plt.scatter(q2_df['jumping'],q2_df['heading_accuracy'])\n",
    "plt.xlabel('jumping', fontsize=12)\n",
    "plt.ylabel('heading_accuracy', fontsize=12)\n",
    "plt.title('The correlation between jumping and heading accuracy',fontsize=12)\n",
    "plt.show()\n",
    "\n",
    "\n"
   ]
  },
  {
   "cell_type": "markdown",
   "metadata": {},
   "source": [
    "<a id='conclusions'></a>\n",
    "## Conclusions\n",
    "\n",
    "### Question 1 conclusion:\n",
    "The pie chart clearly showing that Real Madrid FC has scored most the goal while playing in his home. They scored 505 goals from 2008 - 2016 season. Their great performance may be indicated that they have many great players along with huge supporters.\n",
    "\n",
    "### Question 2 Conclusions:\n",
    "##### aggression Vs interceptions findings:\n",
    "As we can see from the plot above, there is strong positive correlation between palyer aggression and interception attribute. It does indicate that player with high aggression will most likely will intercept the ball from the opponents. Therefore, as a coach, I will have those kind of players in the middle of field to have privilege over the opponent and intercept the ball and start counter attack.\n",
    "\n",
    "##### vision Vs long passing findings:\n",
    "As we can see from the plot above, again there is strong positive correlation between palyer vision and long passing attribute. It does indicate that player with wide vision will most likely will have higher chance of successfully long passing the ball to his team mate in the soccer field. Therefore, if I were a coach, I will put those kind of players as back midfielders\n",
    "\n",
    "##### jumping Vs heading accuracy findings:\n",
    "I'm surprised by I saw from the plot above, I though I would strong correlation between jumping and heading accuracy because have better jumping then it would mean that you can reach faster to the ball and you will have better chance to redirect the ball the way you want it. However, the plot above proves my incorrect assumption. The corrleation is weak and not strong \n",
    "\n",
    "##### Dataset Limitation:\n",
    "<li>I was trying to explore different angles of the dataset by I face a great challenge to understand some the columns that extracted from the following website:\n",
    "http://football-data.mx-api.enetscores.com/\n",
    "The website is down and to understand some of the columns, you need to spend hefty time to understand it.\n",
    "</li>\n",
    "<li>The goal column in 'Match' table is an XML tags which took ages for me to interpret and therefore, I decided not to explore one of the questions I was planning to address \"Which players had the most penalties? \".\n",
    "</li>\n",
    "<li>Using SQLITE library yet is another challenge because as I explained earlier, I was planning to use SQLITE library in udacity Jypter notebook but could not do it. so, I decided to move on and provide you with SQL query I used to extract my data frame from the table\n",
    "</li>\n",
    "\n",
    "\n",
    "## Submitting your Project \n",
    "\n",
    "> Before you submit your project, you need to create a .html or .pdf version of this notebook in the workspace here. To do that, run the code cell below. If it worked correctly, you should get a return code of 0, and you should see the generated .html file in the workspace directory (click on the orange Jupyter icon in the upper left).\n",
    "\n",
    "> Alternatively, you can download this report as .html via the **File** > **Download as** submenu, and then manually upload it into the workspace directory by clicking on the orange Jupyter icon in the upper left, then using the Upload button.\n",
    "\n",
    "> Once you've done this, you can submit your project by clicking on the \"Submit Project\" button in the lower right here. This will create and submit a zip file with this .ipynb doc and the .html or .pdf version you created. Congratulations!"
   ]
  },
  {
   "cell_type": "code",
   "execution_count": 14,
   "metadata": {},
   "outputs": [
    {
     "data": {
      "text/plain": [
       "0"
      ]
     },
     "execution_count": 14,
     "metadata": {},
     "output_type": "execute_result"
    }
   ],
   "source": [
    "from subprocess import call\n",
    "call(['python', '-m', 'nbconvert', 'Investigate_a_Dataset.ipynb'])"
   ]
  },
  {
   "cell_type": "code",
   "execution_count": null,
   "metadata": {},
   "outputs": [],
   "source": []
  }
 ],
 "metadata": {
  "kernelspec": {
   "display_name": "Python 3",
   "language": "python",
   "name": "python3"
  },
  "language_info": {
   "codemirror_mode": {
    "name": "ipython",
    "version": 3
   },
   "file_extension": ".py",
   "mimetype": "text/x-python",
   "name": "python",
   "nbconvert_exporter": "python",
   "pygments_lexer": "ipython3",
   "version": "3.6.3"
  }
 },
 "nbformat": 4,
 "nbformat_minor": 2
}
