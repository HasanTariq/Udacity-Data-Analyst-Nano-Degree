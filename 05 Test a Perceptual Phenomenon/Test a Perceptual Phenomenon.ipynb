{
 "cells": [
  {
   "cell_type": "markdown",
   "metadata": {},
   "source": [
    "### Analyzing the Stroop Effect\n",
    "Perform the analysis in the space below. Remember to follow [the instructions](https://docs.google.com/document/d/1-OkpZLjG_kX9J6LIQ5IltsqMzVWjh36QpnP2RYpVdPU/pub?embedded=True) and review the [project rubric](https://review.udacity.com/#!/rubrics/71/view) before submitting. Once you've completed the analysis and write-up, download this file as a PDF or HTML file, upload that PDF/HTML into the workspace here (click on the orange Jupyter icon in the upper left then Upload), then use the Submit Project button at the bottom of this page. This will create a zip file containing both this .ipynb doc and the PDF/HTML doc that will be submitted for your project.\n",
    "\n",
    "\n",
    "(1) What is the independent variable? What is the dependent variable?"
   ]
  },
  {
   "cell_type": "markdown",
   "metadata": {},
   "source": [
    "#### Independent variable ####\n",
    "Color: Test question (word condition)\n",
    "\n",
    "#### Dependent variable ####\n",
    "Time: congruent and incongruent times (The time that needed by particpant to name the ink colors)\n",
    "\n"
   ]
  },
  {
   "cell_type": "markdown",
   "metadata": {},
   "source": [
    "(2) What is an appropriate set of hypotheses for this task? Specify your null and alternative hypotheses, and clearly define any notation used. Justify your choices."
   ]
  },
  {
   "cell_type": "markdown",
   "metadata": {},
   "source": [
    "#### Null hypotheses #####\n",
    "congruent words performance is better than incongruent words performance \n",
    "$$H_0: \\mu_{cp} > \\mu_{ip} $$\n",
    "\n",
    "\n",
    "\n",
    "#### Alternative hypotheses ####\n",
    "incongruent words performance is better than congruent words performance \n",
    "$$H_1: \\mu_{cp} < \\mu_{ip} $$\n",
    "\n",
    "**where:**\n",
    "$$\\mu_{cp}$$ congruent words performance\n",
    "$$\\mu_{ip}$$ incongruent words performance\n",
    "\n",
    "\n",
    "***Since the sample size is less than 30, we will use dependent t-test as our statistical test method to find out the p-value and determine if we should reject, fail the null***"
   ]
  },
  {
   "cell_type": "markdown",
   "metadata": {},
   "source": [
    "(3) Report some descriptive statistics regarding this dataset. Include at least one measure of central tendency and at least one measure of variability. The name of the data file is 'stroopdata.csv'."
   ]
  },
  {
   "cell_type": "code",
   "execution_count": 37,
   "metadata": {},
   "outputs": [
    {
     "data": {
      "text/html": [
       "<div>\n",
       "<style>\n",
       "    .dataframe thead tr:only-child th {\n",
       "        text-align: right;\n",
       "    }\n",
       "\n",
       "    .dataframe thead th {\n",
       "        text-align: left;\n",
       "    }\n",
       "\n",
       "    .dataframe tbody tr th {\n",
       "        vertical-align: top;\n",
       "    }\n",
       "</style>\n",
       "<table border=\"1\" class=\"dataframe\">\n",
       "  <thead>\n",
       "    <tr style=\"text-align: right;\">\n",
       "      <th></th>\n",
       "      <th>Congruent</th>\n",
       "      <th>Incongruent</th>\n",
       "    </tr>\n",
       "  </thead>\n",
       "  <tbody>\n",
       "    <tr>\n",
       "      <th>0</th>\n",
       "      <td>12.079</td>\n",
       "      <td>19.278</td>\n",
       "    </tr>\n",
       "    <tr>\n",
       "      <th>1</th>\n",
       "      <td>16.791</td>\n",
       "      <td>18.741</td>\n",
       "    </tr>\n",
       "    <tr>\n",
       "      <th>2</th>\n",
       "      <td>9.564</td>\n",
       "      <td>21.214</td>\n",
       "    </tr>\n",
       "    <tr>\n",
       "      <th>3</th>\n",
       "      <td>8.630</td>\n",
       "      <td>15.687</td>\n",
       "    </tr>\n",
       "  </tbody>\n",
       "</table>\n",
       "</div>"
      ],
      "text/plain": [
       "   Congruent  Incongruent\n",
       "0     12.079       19.278\n",
       "1     16.791       18.741\n",
       "2      9.564       21.214\n",
       "3      8.630       15.687"
      ]
     },
     "execution_count": 37,
     "metadata": {},
     "output_type": "execute_result"
    }
   ],
   "source": [
    "# Perform the analysis here\n",
    "import pandas as pd\n",
    "import numpy as np\n",
    "import matplotlib.pyplot as plt\n",
    "from scipy import stats\n",
    "\n",
    "%matplotlib inline\n",
    "\n",
    "df = pd.read_csv('stroopdata.csv')\n",
    "\n",
    "df.head(4)\n"
   ]
  },
  {
   "cell_type": "code",
   "execution_count": 38,
   "metadata": {},
   "outputs": [
    {
     "name": "stdout",
     "output_type": "stream",
     "text": [
      "Is there any null value in the data frame? False\n"
     ]
    }
   ],
   "source": [
    "# Make sure that there is no null value in data frame\n",
    "print ('Is there any null value in the data frame?', df.isnull().values.any())\n"
   ]
  },
  {
   "cell_type": "markdown",
   "metadata": {},
   "source": [
    "***measure of central tendency***"
   ]
  },
  {
   "cell_type": "code",
   "execution_count": 39,
   "metadata": {},
   "outputs": [
    {
     "name": "stdout",
     "output_type": "stream",
     "text": [
      "congruent_mean =  14.051125\n",
      "incongruent_mean =  22.0159166667\n"
     ]
    }
   ],
   "source": [
    "# Mean of congruent and incongruent\n",
    "congruent_mean = df['Congruent'].mean()\n",
    "incongruent_mean = df['Incongruent'].mean()\n",
    "\n",
    "print ('congruent_mean = ', congruent_mean)\n",
    "print ('incongruent_mean = ', incongruent_mean)"
   ]
  },
  {
   "cell_type": "code",
   "execution_count": 40,
   "metadata": {},
   "outputs": [
    {
     "name": "stdout",
     "output_type": "stream",
     "text": [
      "congruent_median =  14.3565\n",
      "incongruent_median =  21.0175\n"
     ]
    }
   ],
   "source": [
    "# Median of congruent and incongruent\n",
    "congruent_median = df['Congruent'].median()\n",
    "incongruent_median = df['Incongruent'].median()\n",
    "\n",
    "print ('congruent_median = ', congruent_median)\n",
    "print ('incongruent_median = ', incongruent_median)"
   ]
  },
  {
   "cell_type": "markdown",
   "metadata": {},
   "source": [
    "***measure of variability***"
   ]
  },
  {
   "cell_type": "code",
   "execution_count": 41,
   "metadata": {},
   "outputs": [
    {
     "name": "stdout",
     "output_type": "stream",
     "text": [
      "congruent_IQR :  4.3054999999999986\n",
      "incongruent_IQR :  5.33475\n"
     ]
    }
   ],
   "source": [
    "# Computing IQR for congruent\n",
    "Q1 = df['Congruent'].quantile(0.25)\n",
    "Q3 = df['Congruent'].quantile(0.75)\n",
    "congruent_IQR = Q3 - Q1\n",
    "\n",
    "# Computing IQR for incongruent\n",
    "Q1 = df['Incongruent'].quantile(0.25)\n",
    "Q3 = df['Incongruent'].quantile(0.75)\n",
    "incongruent_IQR = Q3 - Q1\n",
    "\n",
    "print ('congruent_IQR : ',congruent_IQR )\n",
    "print ('incongruent_IQR : ',incongruent_IQR )\n",
    "\n"
   ]
  },
  {
   "cell_type": "code",
   "execution_count": 42,
   "metadata": {},
   "outputs": [
    {
     "name": "stdout",
     "output_type": "stream",
     "text": [
      "Standard deviation for congruent and incongruent  : \n"
     ]
    },
    {
     "data": {
      "text/plain": [
       "Congruent      3.559358\n",
       "Incongruent    4.797057\n",
       "dtype: float64"
      ]
     },
     "execution_count": 42,
     "metadata": {},
     "output_type": "execute_result"
    }
   ],
   "source": [
    "# Computing standard deviation for congruent and incongruent\n",
    "print ('Standard deviation for congruent and incongruent  : ' )\n",
    "df.std()\n"
   ]
  },
  {
   "cell_type": "markdown",
   "metadata": {},
   "source": [
    "(4) Provide one or two visualizations that show the distribution of the sample data. Write one or two sentences noting what you observe about the plot or plots."
   ]
  },
  {
   "cell_type": "code",
   "execution_count": 43,
   "metadata": {},
   "outputs": [
    {
     "data": {
      "text/plain": [
       "<matplotlib.axes._subplots.AxesSubplot at 0x7f0871ff2a58>"
      ]
     },
     "execution_count": 43,
     "metadata": {},
     "output_type": "execute_result"
    },
    {
     "data": {
      "text/plain": [
       "<matplotlib.figure.Figure at 0x7f0871f91e10>"
      ]
     },
     "metadata": {},
     "output_type": "display_data"
    },
    {
     "data": {
      "image/png": "[encoded data removed]",
      "text/plain": [
       "<matplotlib.figure.Figure at 0x7f086a072da0>"
      ]
     },
     "metadata": {
      "needs_background": "light"
     },
     "output_type": "display_data"
    }
   ],
   "source": [
    "# Build the visualizations here\n",
    "df4 = pd.DataFrame({'Congruent': df['Congruent'] , 'Incongruent': df['Incongruent']}, columns=['Congruent', 'Incongruent'])\n",
    "\n",
    "plt.figure();\n",
    "df4.plot.hist(alpha=0.5)"
   ]
  },
  {
   "cell_type": "markdown",
   "metadata": {},
   "source": [
    "***Observation***\n",
    "\n",
    "***In the histogram , Congruent time value peaks at between 14 seconds and 15 seconds. This is the bin where most of our Congruent time values fall. There is a wide spread in the histogram, with our observations ranging from 5 seconds to 24 seconds. This finding means there is more variation in our congruent data.***\n",
    "\n",
    "***One more observation about the incongruent performance, we can see clearly that we have outliers for the values from 32.5 seconds to 35 seconds. We should remove it to have accurate histogram plot***\n",
    "\n"
   ]
  },
  {
   "cell_type": "markdown",
   "metadata": {},
   "source": [
    "(5)  Now, perform the statistical test and report your results. What is your confidence level or Type I error associated with your test? What is your conclusion regarding the hypotheses you set up? Did the results match up with your expectations? **Hint:**  Think about what is being measured on each individual, and what statistic best captures how an individual reacts in each environment."
   ]
  },
  {
   "cell_type": "markdown",
   "metadata": {},
   "source": [
    "***Since the sample size is less than 30, we will use dependent t-test as our statistical test method to find out the p-value and determine if we should reject, failt the null***"
   ]
  },
  {
   "cell_type": "code",
   "execution_count": 44,
   "metadata": {},
   "outputs": [
    {
     "data": {
      "text/plain": [
       "Ttest_relResult(statistic=-8.020706944109957, pvalue=4.1030005857111781e-08)"
      ]
     },
     "execution_count": 44,
     "metadata": {},
     "output_type": "execute_result"
    }
   ],
   "source": [
    "# Perform the statistical test here\n",
    "# Calculates the T-test on TWO RELATED samples of scores, Congruent and Incongruent.\n",
    "stats.ttest_rel(df['Congruent'], df['Incongruent'])\n"
   ]
  },
  {
   "cell_type": "markdown",
   "metadata": {},
   "source": [
    "***Since the p value is under 0.05 therefore, we reject our null hypothesis. Thus, we can conclude that incongruent and congruent group has different average population time to complete tasks.***"
   ]
  },
  {
   "cell_type": "markdown",
   "metadata": {},
   "source": [
    "(6) Optional: What do you think is responsible for the effects observed? Can you think of an alternative or similar task that would result in a similar effect? Some research about the problem will be helpful for thinking about these two questions!"
   ]
  },
  {
   "cell_type": "markdown",
   "metadata": {},
   "source": [
    "--write answer here--"
   ]
  }
 ],
 "metadata": {
  "kernelspec": {
   "display_name": "Python 3",
   "language": "python",
   "name": "python3"
  },
  "language_info": {
   "codemirror_mode": {
    "name": "ipython",
    "version": 3
   },
   "file_extension": ".py",
   "mimetype": "text/x-python",
   "name": "python",
   "nbconvert_exporter": "python",
   "pygments_lexer": "ipython3",
   "version": "3.6.3"
  }
 },
 "nbformat": 4,
 "nbformat_minor": 2
}
